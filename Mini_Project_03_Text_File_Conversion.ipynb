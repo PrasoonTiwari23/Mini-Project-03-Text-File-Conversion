{
  "nbformat": 4,
  "nbformat_minor": 0,
  "metadata": {
    "colab": {
      "provenance": []
    },
    "kernelspec": {
      "name": "python3",
      "display_name": "Python 3"
    },
    "language_info": {
      "name": "python"
    }
  },
  "cells": [
    {
      "cell_type": "code",
      "source": [
        "import time\n",
        "import matplotlib.pyplot as plt\n",
        "\n",
        "# Define the file sizes in bytes\n",
        "file_sizes = [200 * 1024 * 1024, 400 * 1024 * 1024, 600 * 1024 * 1024, 800 * 1024 * 1024, 1000 * 1024 * 1024]\n",
        "\n",
        "# Define the file paths\n",
        "file_paths = [\"file1.txt\", \"file2.txt\", \"file3.txt\", \"file4.txt\", \"file5.txt\"]\n",
        "\n",
        "# Function to convert a file to uppercase\n",
        "def convert_to_uppercase(file_path):\n",
        "    with open(file_path, \"r\") as file:\n",
        "        content = file.read().upper()\n",
        "\n",
        "    with open(file_path, \"w\") as file:\n",
        "        file.write(content)\n",
        "\n",
        "# Perform conversion for each file size\n",
        "times = []\n",
        "for i, size in enumerate(file_sizes):\n",
        "    file_path = file_paths[i]\n",
        "\n",
        "    start_time = time.time()\n",
        "    convert_to_uppercase(file_path)\n",
        "    end_time = time.time()\n",
        "    elapsed_time = end_time - start_time\n",
        "    times.append(elapsed_time)\n",
        "\n",
        "# Plot the results\n",
        "plt.plot(file_sizes, times, marker=\"o\")\n",
        "plt.xlabel(\"File Size (bytes)\")\n",
        "plt.ylabel(\"Time Taken (seconds)\")\n",
        "plt.title(\"Performance Comparison\")\n",
        "plt.grid(True)\n",
        "plt.show()\n"
      ],
      "metadata": {
        "id": "_r-kQ4q4nISt"
      },
      "execution_count": null,
      "outputs": []
    }
  ]
}